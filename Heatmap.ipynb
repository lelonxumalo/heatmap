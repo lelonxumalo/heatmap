{
 "cells": [
  {
   "cell_type": "markdown",
   "metadata": {},
   "source": [
    "A simple heatmap to illustrate r support for Jupyter Notebook. More serious analysis to come :)"
   ]
  },
  {
   "cell_type": "code",
   "execution_count": 20,
   "metadata": {},
   "outputs": [],
   "source": [
    "df.school_data <- expand.grid(schools = c(\"School A\", \"School B\", \"School C\", \"School D\")\n",
    "                           ,metrics = c(\"Students\", \"Teachers\", \"Budget\", \"Sports\", \"Academics\")\n",
    "                           )"
   ]
  },
  {
   "cell_type": "code",
   "execution_count": 21,
   "metadata": {},
   "outputs": [],
   "source": [
    "set.seed(41)\n",
    "df.school_data$performance <- rnorm(nrow(df.school_data))"
   ]
  },
  {
   "cell_type": "code",
   "execution_count": 22,
   "metadata": {},
   "outputs": [
    {
     "data": {
      "text/html": [
       "<table>\n",
       "<thead><tr><th scope=col>schools</th><th scope=col>metrics</th><th scope=col>performance</th></tr></thead>\n",
       "<tbody>\n",
       "\t<tr><td>School A  </td><td>Students  </td><td>-0.7943683</td></tr>\n",
       "\t<tr><td>School B  </td><td>Students  </td><td> 0.1972575</td></tr>\n",
       "\t<tr><td>School C  </td><td>Students  </td><td> 1.0017043</td></tr>\n",
       "\t<tr><td>School D  </td><td>Students  </td><td> 1.2888254</td></tr>\n",
       "\t<tr><td>School A  </td><td>Teachers  </td><td> 0.9057534</td></tr>\n",
       "\t<tr><td>School B  </td><td>Teachers  </td><td> 0.4936675</td></tr>\n",
       "</tbody>\n",
       "</table>\n"
      ],
      "text/latex": [
       "\\begin{tabular}{r|lll}\n",
       " schools & metrics & performance\\\\\n",
       "\\hline\n",
       "\t School A   & Students   & -0.7943683\\\\\n",
       "\t School B   & Students   &  0.1972575\\\\\n",
       "\t School C   & Students   &  1.0017043\\\\\n",
       "\t School D   & Students   &  1.2888254\\\\\n",
       "\t School A   & Teachers   &  0.9057534\\\\\n",
       "\t School B   & Teachers   &  0.4936675\\\\\n",
       "\\end{tabular}\n"
      ],
      "text/markdown": [
       "\n",
       "schools | metrics | performance | \n",
       "|---|---|---|---|---|---|\n",
       "| School A   | Students   | -0.7943683 | \n",
       "| School B   | Students   |  0.1972575 | \n",
       "| School C   | Students   |  1.0017043 | \n",
       "| School D   | Students   |  1.2888254 | \n",
       "| School A   | Teachers   |  0.9057534 | \n",
       "| School B   | Teachers   |  0.4936675 | \n",
       "\n",
       "\n"
      ],
      "text/plain": [
       "  schools  metrics  performance\n",
       "1 School A Students -0.7943683 \n",
       "2 School B Students  0.1972575 \n",
       "3 School C Students  1.0017043 \n",
       "4 School D Students  1.2888254 \n",
       "5 School A Teachers  0.9057534 \n",
       "6 School B Teachers  0.4936675 "
      ]
     },
     "metadata": {},
     "output_type": "display_data"
    }
   ],
   "source": [
    "head(df.school_data)"
   ]
  },
  {
   "cell_type": "code",
   "execution_count": 23,
   "metadata": {},
   "outputs": [
    {
     "data": {},
     "metadata": {},
     "output_type": "display_data"
    },
    {
     "data": {
      "image/png": "[encoded data removed]",
      "text/plain": [
       "plot without title"
      ]
     },
     "metadata": {},
     "output_type": "display_data"
    }
   ],
   "source": [
    "ggplot(data = df.school_data, aes(x = metrics, y = schools)) +\n",
    "  geom_tile(aes(fill = performance)) "
   ]
  }
 ],
 "metadata": {
  "kernelspec": {
   "display_name": "R",
   "language": "R",
   "name": "ir"
  },
  "language_info": {
   "codemirror_mode": "r",
   "file_extension": ".r",
   "mimetype": "text/x-r-source",
   "name": "R",
   "pygments_lexer": "r",
   "version": "3.4.3"
  }
 },
 "nbformat": 4,
 "nbformat_minor": 2
}
